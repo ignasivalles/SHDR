{
 "cells": [
  {
   "cell_type": "code",
   "execution_count": 6,
   "id": "299c6f7e",
   "metadata": {},
   "outputs": [
    {
     "name": "stdout",
     "output_type": "stream",
     "text": [
      "The autoreload extension is already loaded. To reload it, use:\n",
      "  %reload_ext autoreload\n"
     ]
    }
   ],
   "source": [
    "%load_ext autoreload\n",
    "%autoreload 2"
   ]
  },
  {
   "cell_type": "code",
   "execution_count": 89,
   "id": "dc51ae4c",
   "metadata": {},
   "outputs": [],
   "source": [
    "import numpy as np\n",
    "import matplotlib.pyplot as plt\n",
    "import netCDF4\n",
    "import pandas as pd\n",
    "from SHDR import fit_profile\n",
    "from SHDR_utils import plot_profile_fit, fit_function"
   ]
  },
  {
   "cell_type": "code",
   "execution_count": 90,
   "id": "c1bd3160",
   "metadata": {},
   "outputs": [],
   "source": [
    "data_url = 'https://tds0.ifremer.fr/thredds/dodsC/CORIOLIS-OCEANSITES-GDAC-OBS/DATA/SATS/OS_SATS_202008_D-CTD-S7.nc'\n",
    "with netCDF4.Dataset(data_url) as ds:\n",
    "    temp = ds['TEMP'][:]\n",
    "    pres = ds['PRES'][:]"
   ]
  },
  {
   "cell_type": "code",
   "execution_count": 94,
   "id": "226f9f4b",
   "metadata": {
    "scrolled": true
   },
   "outputs": [],
   "source": [
    "result = fit_profile(y=temp, z=pres, max_depth=300, only_mld=True)"
   ]
  },
  {
   "cell_type": "code",
   "execution_count": 95,
   "id": "378d38fd",
   "metadata": {
    "scrolled": false
   },
   "outputs": [
    {
     "ename": "ValueError",
     "evalue": "Params must be the complete set of parameters. Set only_mld to False when performing the fit to later use this function",
     "output_type": "error",
     "traceback": [
      "\u001b[0;31m---------------------------------------------------------------------------\u001b[0m",
      "\u001b[0;31mValueError\u001b[0m                                Traceback (most recent call last)",
      "Cell \u001b[0;32mIn[95], line 1\u001b[0m\n\u001b[0;32m----> 1\u001b[0m \u001b[43mplot_profile_fit\u001b[49m\u001b[43m(\u001b[49m\u001b[43mtemp\u001b[49m\u001b[43m,\u001b[49m\u001b[43m \u001b[49m\u001b[43mpres\u001b[49m\u001b[43m,\u001b[49m\u001b[43m \u001b[49m\u001b[43mresult\u001b[49m\u001b[43m,\u001b[49m\u001b[43m \u001b[49m\u001b[43mmax_z\u001b[49m\u001b[38;5;241;43m=\u001b[39;49m\u001b[38;5;241;43m200\u001b[39;49m\u001b[43m)\u001b[49m\n",
      "File \u001b[0;32m~/repos/SHDR/SHDR_utils.py:140\u001b[0m, in \u001b[0;36mplot_profile_fit\u001b[0;34m(y, z, params, max_z, figsize)\u001b[0m\n\u001b[1;32m    137\u001b[0m ax\u001b[38;5;241m.\u001b[39maxhline(mld, c\u001b[38;5;241m=\u001b[39m\u001b[38;5;124m'\u001b[39m\u001b[38;5;124mgrey\u001b[39m\u001b[38;5;124m'\u001b[39m, ls\u001b[38;5;241m=\u001b[39m\u001b[38;5;124m'\u001b[39m\u001b[38;5;124m--\u001b[39m\u001b[38;5;124m'\u001b[39m) \u001b[38;5;66;03m# plot MLD\u001b[39;00m\n\u001b[1;32m    139\u001b[0m zz \u001b[38;5;241m=\u001b[39m np\u001b[38;5;241m.\u001b[39mlinspace(z[\u001b[38;5;241m0\u001b[39m], z[\u001b[38;5;241m-\u001b[39m\u001b[38;5;241m1\u001b[39m], \u001b[38;5;241m800\u001b[39m)\n\u001b[0;32m--> 140\u001b[0m ax\u001b[38;5;241m.\u001b[39mplot(\u001b[43mfit_function\u001b[49m\u001b[43m(\u001b[49m\u001b[43mzz\u001b[49m\u001b[43m,\u001b[49m\u001b[43m \u001b[49m\u001b[43mparams\u001b[49m\u001b[43m)\u001b[49m, zz, lw\u001b[38;5;241m=\u001b[39m\u001b[38;5;241m1\u001b[39m)\n\u001b[1;32m    142\u001b[0m ax\u001b[38;5;241m.\u001b[39mset_xlabel(\u001b[38;5;124m'\u001b[39m\u001b[38;5;124my\u001b[39m\u001b[38;5;124m'\u001b[39m)\n\u001b[1;32m    143\u001b[0m ax\u001b[38;5;241m.\u001b[39mset_ylabel(\u001b[38;5;124m'\u001b[39m\u001b[38;5;124mz\u001b[39m\u001b[38;5;124m'\u001b[39m)\n",
      "File \u001b[0;32m~/repos/SHDR/SHDR_utils.py:24\u001b[0m, in \u001b[0;36mfit_function\u001b[0;34m(z, params)\u001b[0m\n\u001b[1;32m     17\u001b[0m \u001b[38;5;250m\u001b[39m\u001b[38;5;124;03m'''\u001b[39;00m\n\u001b[1;32m     18\u001b[0m \u001b[38;5;124;03mReturns the value of an analytical profile with parametres params at\u001b[39;00m\n\u001b[1;32m     19\u001b[0m \u001b[38;5;124;03mheight z.\u001b[39;00m\n\u001b[1;32m     20\u001b[0m \n\u001b[1;32m     21\u001b[0m \u001b[38;5;124;03m'''\u001b[39;00m\n\u001b[1;32m     23\u001b[0m \u001b[38;5;28;01mif\u001b[39;00m \u001b[38;5;28mlen\u001b[39m(\u001b[38;5;28mlist\u001b[39m(params)) \u001b[38;5;241m<\u001b[39m\u001b[38;5;241m=\u001b[39m \u001b[38;5;241m2\u001b[39m:\n\u001b[0;32m---> 24\u001b[0m     \u001b[38;5;28;01mraise\u001b[39;00m \u001b[38;5;167;01mValueError\u001b[39;00m(\u001b[38;5;124m\"\u001b[39m\u001b[38;5;124mParams must be the complete set of parameters. \u001b[39m\u001b[38;5;124m\"\u001b[39m\\\n\u001b[1;32m     25\u001b[0m                      \u001b[38;5;124m\"\u001b[39m\u001b[38;5;124mSet only_mld to False when performing the fit \u001b[39m\u001b[38;5;124m\"\u001b[39m\\\n\u001b[1;32m     26\u001b[0m                      \u001b[38;5;124m\"\u001b[39m\u001b[38;5;124mto later use this function\u001b[39m\u001b[38;5;124m\"\u001b[39m)\n\u001b[1;32m     28\u001b[0m \u001b[38;5;28;01mif\u001b[39;00m \u001b[38;5;28misinstance\u001b[39m(params, pd\u001b[38;5;241m.\u001b[39mcore\u001b[38;5;241m.\u001b[39mseries\u001b[38;5;241m.\u001b[39mSeries):\n\u001b[1;32m     30\u001b[0m     columns \u001b[38;5;241m=\u001b[39m [\u001b[38;5;124m'\u001b[39m\u001b[38;5;124mD1\u001b[39m\u001b[38;5;124m'\u001b[39m, \u001b[38;5;124m'\u001b[39m\u001b[38;5;124mb2\u001b[39m\u001b[38;5;124m'\u001b[39m, \u001b[38;5;124m'\u001b[39m\u001b[38;5;124mc2\u001b[39m\u001b[38;5;124m'\u001b[39m, \u001b[38;5;124m'\u001b[39m\u001b[38;5;124mb3\u001b[39m\u001b[38;5;124m'\u001b[39m, \u001b[38;5;124m'\u001b[39m\u001b[38;5;124ma2\u001b[39m\u001b[38;5;124m'\u001b[39m, \u001b[38;5;124m'\u001b[39m\u001b[38;5;124ma1\u001b[39m\u001b[38;5;124m'\u001b[39m]\n",
      "\u001b[0;31mValueError\u001b[0m: Params must be the complete set of parameters. Set only_mld to False when performing the fit to later use this function"
     ]
    },
    {
     "data": {
      "image/png": "[encoded data removed]",
      "text/plain": [
       "<Figure size 400x468.75 with 1 Axes>"
      ]
     },
     "metadata": {},
     "output_type": "display_data"
    }
   ],
   "source": [
    "plot_profile_fit(temp, pres, result, max_z=200)"
   ]
  },
  {
   "cell_type": "code",
   "execution_count": null,
   "id": "40141e77",
   "metadata": {},
   "outputs": [],
   "source": []
  }
 ],
 "metadata": {
  "kernelspec": {
   "display_name": "Python 3 (ipykernel)",
   "language": "python",
   "name": "python3"
  },
  "language_info": {
   "codemirror_mode": {
    "name": "ipython",
    "version": 3
   },
   "file_extension": ".py",
   "mimetype": "text/x-python",
   "name": "python",
   "nbconvert_exporter": "python",
   "pygments_lexer": "ipython3",
   "version": "3.11.3"
  }
 },
 "nbformat": 4,
 "nbformat_minor": 5
}
