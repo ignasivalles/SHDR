{
 "cells": [
  {
   "cell_type": "markdown",
   "id": "e874edd9",
   "metadata": {},
   "source": [
    "Import libraries"
   ]
  },
  {
   "cell_type": "code",
   "execution_count": 7,
   "id": "3d1fb7c9",
   "metadata": {},
   "outputs": [],
   "source": [
    "import numpy as np\n",
    "import matplotlib.pyplot as plt\n",
    "import pandas as pd\n",
    "import numpy as np\n",
    "import netCDF4"
   ]
  },
  {
   "cell_type": "markdown",
   "id": "a0d33ed4",
   "metadata": {},
   "source": [
    "Import the main function from SHDR file. The ``SHDR.py`` file should be in the current working directory"
   ]
  },
  {
   "cell_type": "code",
   "execution_count": 4,
   "id": "a31985e8",
   "metadata": {},
   "outputs": [],
   "source": [
    "from SHDR import fit_time_series #Important! For this to work the SHDR.py file should be in the working directory"
   ]
  },
  {
   "cell_type": "markdown",
   "id": "ea6866a2",
   "metadata": {},
   "source": [
    "Import your data."
   ]
  },
  {
   "cell_type": "code",
   "execution_count": 12,
   "id": "94e03169",
   "metadata": {},
   "outputs": [],
   "source": [
    "url_data = 'http://centolo.co.ieo.es:8080/thredds/dodsC/stations/SATS/OS_SATS_201904_P-CTD-S7.nc'\n",
    "a = netCDF4.Dataset(url_data, 'r')"
   ]
  },
  {
   "cell_type": "code",
   "execution_count": 20,
   "id": "85bbc5c2",
   "metadata": {},
   "outputs": [],
   "source": [
    "A = a['PRES']"
   ]
  },
  {
   "cell_type": "code",
   "execution_count": 22,
   "id": "21cfbbc1",
   "metadata": {},
   "outputs": [
    {
     "data": {
      "text/plain": [
       "<class 'netCDF4._netCDF4.Variable'>\n",
       "float32 TEMP(TIME, DEPTH)\n",
       "    units: degree_Celsius\n",
       "    standard_name: sea_water_temperature\n",
       "    long_name: sea water temperature\n",
       "    valid_min: -5.0\n",
       "    valid_max: 35.0\n",
       "    QC_indicator: 1\n",
       "    comment: In-situ sea water temperature from CTD using International Temperature Scale of 1990\n",
       "    sensor_name: Sea-Bird SBE03Plus\n",
       "    sensor_serial_number: 4169\n",
       "    sensor_comment: mounted_on_shipborne_profiler\n",
       "    ancillary_variables: TEMP_QC\n",
       "    accuracy: 0.0001\n",
       "    resolution: 0.0002\n",
       "    cell_methods: TIME:point DEPTH:average LATITUDE:point LONGITUDE:point\n",
       "    reference_scale: ITS-90\n",
       "    DM_indicator: P\n",
       "    QC_procedure: Data manually reviewed\n",
       "    _ChunkSizes: [  1 997]\n",
       "unlimited dimensions: \n",
       "current shape = (1, 997)\n",
       "filling off"
      ]
     },
     "execution_count": 22,
     "metadata": {},
     "output_type": "execute_result"
    }
   ],
   "source": [
    "a['TEMP']"
   ]
  },
  {
   "cell_type": "code",
   "execution_count": null,
   "id": "010b2b48",
   "metadata": {},
   "outputs": [],
   "source": []
  }
 ],
 "metadata": {
  "kernelspec": {
   "display_name": "Python 3 (ipykernel)",
   "language": "python",
   "name": "python3"
  },
  "language_info": {
   "codemirror_mode": {
    "name": "ipython",
    "version": 3
   },
   "file_extension": ".py",
   "mimetype": "text/x-python",
   "name": "python",
   "nbconvert_exporter": "python",
   "pygments_lexer": "ipython3",
   "version": "3.11.3"
  }
 },
 "nbformat": 4,
 "nbformat_minor": 5
}
