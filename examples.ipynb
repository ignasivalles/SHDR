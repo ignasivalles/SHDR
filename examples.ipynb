{
 "cells": [
  {
   "cell_type": "markdown",
   "id": "0beb6794",
   "metadata": {},
   "source": [
    "# Fitting a single temperature profile."
   ]
  },
  {
   "cell_type": "markdown",
   "id": "e874edd9",
   "metadata": {},
   "source": [
    "Import libraries"
   ]
  },
  {
   "cell_type": "code",
   "execution_count": 5,
   "id": "bf73476f",
   "metadata": {},
   "outputs": [],
   "source": [
    "%load_ext autoreload\n",
    "%autoreload 2"
   ]
  },
  {
   "cell_type": "code",
   "execution_count": 6,
   "id": "3d1fb7c9",
   "metadata": {},
   "outputs": [],
   "source": [
    "import numpy as np\n",
    "import matplotlib.pyplot as plt\n",
    "import pandas as pd\n",
    "import numpy as np\n",
    "import netCDF4"
   ]
  },
  {
   "cell_type": "markdown",
   "id": "a0d33ed4",
   "metadata": {},
   "source": [
    "Import the `fit_profile` from SHDR file. The ``SHDR.py`` file should be in the current working directory"
   ]
  },
  {
   "cell_type": "code",
   "execution_count": 15,
   "id": "a31985e8",
   "metadata": {},
   "outputs": [],
   "source": [
    "from SHDR import fit_profile #Important! SHDR.py file should be in the working directory"
   ]
  },
  {
   "cell_type": "markdown",
   "id": "ea6866a2",
   "metadata": {},
   "source": [
    "Import your data. Here we use netCDF4 python library to load a CTD dataset from the IFREMER OCEANSITES server."
   ]
  },
  {
   "cell_type": "code",
   "execution_count": 16,
   "id": "9fab7ca9",
   "metadata": {},
   "outputs": [],
   "source": [
    "url_data = 'https://tds0.ifremer.fr/thredds/dodsC/CORIOLIS-OCEANSITES-GDAC-OBS/DATA/SATS/OS_SATS_201811_P_CTD-S7.nc'\n",
    "with netCDF4.Dataset(url_data, 'r') as ds:\n",
    "    time = ds['TIME'][:]\n",
    "    temp = ds['TEMP'][:]\n",
    "    sal = ds['PSAL'][:]\n",
    "    depth = ds['PRES'][:]\n",
    "    lat = ds['LATITUDE'][:]\n",
    "    lon = ds['LONGITUDE'][:]"
   ]
  },
  {
   "cell_type": "markdown",
   "id": "776a4d66",
   "metadata": {},
   "source": [
    "Pass data to the `fit_profile` function"
   ]
  },
  {
   "cell_type": "code",
   "execution_count": 12,
   "id": "a96f348b",
   "metadata": {},
   "outputs": [],
   "source": [
    "result = fit_profile(temp, depth, max_depth=200)"
   ]
  },
  {
   "cell_type": "markdown",
   "id": "910d4df7",
   "metadata": {},
   "source": [
    "The value of `max_depth` is important to select the approximate extent of the upper ocean features in the dataset, and have the algorithm only fit this region.  If we weren't to do this and the profile was deep while the MLD and season thermocline relatively shallow, the algorithm might converge to wrong solutions, since most datapoints would be in regions that are unrelated to the idealised target function.\n",
    "\n",
    "The output is a np.ndarray with the best estimates for the parameters in the following order: `[D1, b2, c2, b3, a2, a1, a3, em]`. If you want to use SHDR as an MLD identifying method, set the argument `only_MLD` to `True`. This will only return `[D1]`. \n",
    "\n",
    "Please run `help(fit_profile)` or refer to the user manual to see all available arguments."
   ]
  },
  {
   "cell_type": "markdown",
   "id": "13fee27b",
   "metadata": {},
   "source": [
    "## Plotting the results\n",
    "The function `plot_profile_fit` from the `SHDR_utils` module allows to plot a fitted profile alongside with it's fit. It returns a minimal plot with little features to quickly explore the results. Feel free to modify it to your needs!!"
   ]
  },
  {
   "cell_type": "code",
   "execution_count": 14,
   "id": "b188e2a7",
   "metadata": {},
   "outputs": [],
   "source": [
    "from SHDR_utils import plot_profile_fit # again, SHDR_utils in working directory"
   ]
  },
  {
   "cell_type": "code",
   "execution_count": 13,
   "id": "084d87c8",
   "metadata": {},
   "outputs": [
    {
     "name": "stderr",
     "output_type": "stream",
     "text": [
      "/home/manu/.local/lib/python3.11/site-packages/IPython/core/pylabtools.py:152: MatplotlibDeprecationWarning: savefig() got unexpected keyword argument \"orientation\" which is no longer supported as of 3.3 and will become an error two minor releases later\n",
      "  fig.canvas.print_figure(bytes_io, **kw)\n",
      "/home/manu/.local/lib/python3.11/site-packages/IPython/core/pylabtools.py:152: MatplotlibDeprecationWarning: savefig() got unexpected keyword argument \"facecolor\" which is no longer supported as of 3.3 and will become an error two minor releases later\n",
      "  fig.canvas.print_figure(bytes_io, **kw)\n",
      "/home/manu/.local/lib/python3.11/site-packages/IPython/core/pylabtools.py:152: MatplotlibDeprecationWarning: savefig() got unexpected keyword argument \"edgecolor\" which is no longer supported as of 3.3 and will become an error two minor releases later\n",
      "  fig.canvas.print_figure(bytes_io, **kw)\n",
      "/home/manu/.local/lib/python3.11/site-packages/IPython/core/pylabtools.py:152: MatplotlibDeprecationWarning: savefig() got unexpected keyword argument \"bbox_inches_restore\" which is no longer supported as of 3.3 and will become an error two minor releases later\n",
      "  fig.canvas.print_figure(bytes_io, **kw)\n"
     ]
    },
    {
     "data": {
      "image/png": "[encoded data removed]",
      "text/plain": [
       "<Figure size 400x468.75 with 1 Axes>"
      ]
     },
     "metadata": {},
     "output_type": "display_data"
    }
   ],
   "source": [
    "plot_profile_fit(temp, depth, result, max_z=400) "
   ]
  },
  {
   "cell_type": "markdown",
   "id": "dfaccb53",
   "metadata": {},
   "source": [
    "The grey dashed lines marks the MLD (D_1 parameter).\n",
    "\n",
    "If the profile is deep, use the `max_z` parameter in a similar way to previously\n",
    "to better visualize the upper ocean features. Have fun!"
   ]
  },
  {
   "cell_type": "code",
   "execution_count": null,
   "id": "0c953187",
   "metadata": {},
   "outputs": [],
   "source": []
  }
 ],
 "metadata": {
  "kernelspec": {
   "display_name": "Python 3 (ipykernel)",
   "language": "python",
   "name": "python3"
  },
  "language_info": {
   "codemirror_mode": {
    "name": "ipython",
    "version": 3
   },
   "file_extension": ".py",
   "mimetype": "text/x-python",
   "name": "python",
   "nbconvert_exporter": "python",
   "pygments_lexer": "ipython3",
   "version": "3.11.4"
  }
 },
 "nbformat": 4,
 "nbformat_minor": 5
}
